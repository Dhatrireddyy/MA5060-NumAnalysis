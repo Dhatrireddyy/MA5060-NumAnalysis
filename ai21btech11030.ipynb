{
  "nbformat": 4,
  "nbformat_minor": 0,
  "metadata": {
    "colab": {
      "provenance": []
    },
    "kernelspec": {
      "name": "python3",
      "display_name": "Python 3"
    },
    "language_info": {
      "name": "python"
    }
  },
  "cells": [
    {
      "cell_type": "code",
      "execution_count": 72,
      "metadata": {
        "id": "WTWsVRksPfgn"
      },
      "outputs": [],
      "source": [
        "import numpy as np"
      ]
    },
    {
      "cell_type": "code",
      "source": [
        "def gauss_elimination(A, b):\n",
        "    n = len(A)\n",
        "\n",
        "    for k in range(n-1):\n",
        "        if A[k][k] == 0:\n",
        "            max_row = k\n",
        "            for i in range(k + 1, n):\n",
        "                if abs(A[i][k]) > abs(A[max_row][k]):\n",
        "                    max_row = i\n",
        "                    A[[k, max_row]] = A[[max_row, k]]\n",
        "                    b[k], b[max_row] = b[max_row], b[k]\n",
        "                    break\n",
        "\n",
        "        for i in range(k+1, n):\n",
        "            factor = A[i][k] / A[k][k]\n",
        "            A[i] = A[i] - factor * A[k]\n",
        "            b[i] = b[i] - factor * b[k]\n",
        "\n",
        "    if A[n-1][n-1] == 0:\n",
        "        print(\"No unique solution exists.\")\n",
        "        return None\n",
        "\n",
        "    x = np.zeros(n, dtype=float)\n",
        "    x[n-1] = b[n-1] / A[n-1][n-1]\n",
        "\n",
        "    for i in range(n-2, -1, -1):\n",
        "        x[i] = (b[i] - np.sum(A[i][i+1:] * x[i+1:])) / A[i][i]\n",
        "\n",
        "    print(f'Matrix (A) = {A}')\n",
        "    print(f'Solution (x) = {x}')\n"
      ],
      "metadata": {
        "id": "K2gzD2jYUUph"
      },
      "execution_count": 73,
      "outputs": []
    },
    {
      "cell_type": "code",
      "source": [
        "def gauss_jordan(A, b):\n",
        "    n = len(A)\n",
        "    for k in range(n-1):\n",
        "        if A[k][k] == 0:\n",
        "            max_row = k\n",
        "            for i in range(k + 1, n):\n",
        "                if abs(A[i][k]) > abs(A[max_row][k]):\n",
        "                    max_row = i\n",
        "                    A[[k, max_row]] = A[[max_row, k]]\n",
        "                    b[k], b[max_row] = b[max_row], b[k]\n",
        "                    break\n",
        "\n",
        "    for i in range(n):\n",
        "        pivot = A[i][i]\n",
        "        for j in range(n):\n",
        "            if j != i:\n",
        "                factor = A[j][i] / pivot\n",
        "                A[j] = A[j] - factor * A[i]\n",
        "                b[j] = b[j] - factor * b[i]\n",
        "\n",
        "        A[i] = A[i] / pivot\n",
        "        b[i] = b[i] / pivot\n",
        "\n",
        "    print(f'Matrix (A) = {A}')\n",
        "    print(f'Solution (x) = {b}')"
      ],
      "metadata": {
        "id": "iK6E0G_pk7E9"
      },
      "execution_count": 74,
      "outputs": []
    },
    {
      "cell_type": "code",
      "source": [
        "def lu_decomposition(A, b):\n",
        "\n",
        "  n = len(A)\n",
        "\n",
        "  L = np.zeros((n, n))\n",
        "  U = np.zeros((n, n))\n",
        "\n",
        "  for i in range(n):\n",
        "      for j in range(n):\n",
        "          if i == j:\n",
        "              L[i][j] = 1\n",
        "          elif j == 0:\n",
        "              L[i][j] = A[i][j] / A[0][0]\n",
        "\n",
        "  U[0][:] = A[0][:]\n",
        "\n",
        "  for i in range(1 , n):\n",
        "\n",
        "      for j in range(i , n):\n",
        "          U[i][j] = A[i][j]\n",
        "\n",
        "          for k in range(i):\n",
        "              U[i][j] = U[i][j] - L[i][k] * U[k][j]\n",
        "\n",
        "      for j in range(i+1,n):\n",
        "          L[j][i] = A[j][i]\n",
        "\n",
        "          for k in range(i):\n",
        "              L[j][i] = L[j][i] - L[j][k] * U[k][i]\n",
        "          L[j][i] = L[j][i]/U[i][i]\n",
        "\n",
        "  # y = np.linalg.solve(L, b)\n",
        "  y = np.zeros(n, dtype=float)\n",
        "\n",
        "  for i in range(n):\n",
        "    y[i] = b[i]\n",
        "    for j in range(i):\n",
        "        y[i] -= L[i, j] * y[j]\n",
        "    y[i] /= L[i, i]\n",
        "\n",
        "  # x = np.linalg.solve(U, y)\n",
        "\n",
        "  x = np.zeros(n, dtype=float)\n",
        "\n",
        "  for i in range(n - 1, -1, -1):\n",
        "    x[i] = y[i]\n",
        "    for j in range(i + 1, n):\n",
        "        x[i] -= U[i, j] * x[j]\n",
        "    x[i] /= U[i, i]\n",
        "\n",
        "\n",
        "  print(f'Matrix (A) = {A}')\n",
        "  print(f'Lower triangular matrix (L) = {L}')\n",
        "  print(f'Upper triangular matrix (U) = {U}')\n",
        "  print(f'Solution (x) = {x}')\n"
      ],
      "metadata": {
        "id": "QYJufrSZEX4o"
      },
      "execution_count": 75,
      "outputs": []
    },
    {
      "cell_type": "code",
      "source": [
        "def gauss_jacobi(A, b, max_iterations, tol):\n",
        "    n = len(b)\n",
        "    x = np.zeros(n)\n",
        "    for iteration in range(max_iterations):\n",
        "        x_new = np.copy(x)\n",
        "        for i in range(n):\n",
        "            x_new[i] = (b[i] - (np.dot(A[i], x) - A[i][i] * x[i])) / A[i][i]\n",
        "        error = np.linalg.norm(x_new - x, ord=2)\n",
        "        x = x_new\n",
        "        print(f\"Iteration {iteration + 1}: x = {x}, Error = {error}\")\n",
        "\n",
        "        if error < tol:\n",
        "            break\n",
        "\n",
        "    print(f'Solution (x) = {x}')\n"
      ],
      "metadata": {
        "id": "kwlvHsV3USEo"
      },
      "execution_count": 76,
      "outputs": []
    },
    {
      "cell_type": "code",
      "source": [
        "def gauss_seidel(A, b, max_iterations, tol):\n",
        "    n = len(b)\n",
        "    x = np.zeros(n)\n",
        "    max_iterations = 1000\n",
        "    for iteration in range(max_iterations):\n",
        "        for i in range(n):\n",
        "            x[i] = (b[i] - np.dot(A[i][:i], x[:i]) - np.dot(A[i][i+1:], x[i+1:])) / A[i][i]\n",
        "        error = np.linalg.norm(A @ x - b, ord=2)\n",
        "        print(f\"Iteration {iteration + 1}: x = {x}, Error = {error}\")\n",
        "        if error < tol:\n",
        "            break\n",
        "\n",
        "    print(f'Solution (x) = {x}')"
      ],
      "metadata": {
        "id": "hMxIcpgEUSXt"
      },
      "execution_count": 77,
      "outputs": []
    },
    {
      "cell_type": "code",
      "source": [
        "A = np.array([[1, 1, 0],\n",
        "              [2, 1, -1],\n",
        "              [3, -1, -1]])\n",
        "\n",
        "b = np.array([[4],\n",
        "              [1],\n",
        "              [-3]])\n",
        "\n",
        "print(\"Select a method to solve the system of equations:\")\n",
        "print(\"1. Elimination by Gauss\")\n",
        "print(\"2. Gauss-Jordan\")\n",
        "print(\"3. LU Decomposition\")\n",
        "print(\"4. Gauss-Jacobi\")\n",
        "print(\"5. Gauss-Seidel\")\n",
        "\n",
        "choice = int(input(\"Enter your choice: \"))\n",
        "\n",
        "if choice == 1:\n",
        "  gauss_elimination(A, b)\n",
        "elif choice == 2:\n",
        "  gauss_jordan(A, b)\n",
        "elif choice == 3:\n",
        "  lu_decomposition(A, b)\n",
        "elif choice == 4:\n",
        "  max_iter = int(input(\"Enter the maximum number of iterations: \"))\n",
        "  tol = float(input(\"Enter the tolerance for convergence: \"))\n",
        "  gauss_jacobi(A, b, max_iter, tol)\n",
        "elif choice == 5:\n",
        "  max_iter = int(input(\"Enter the maximum number of iterations: \"))\n",
        "  tol = float(input(\"Enter the tolerance for convergence: \"))\n",
        "  gauss_seidel(A, b, max_iter, tol)\n",
        "else:\n",
        "  print(\"Invalid choice\")\n"
      ],
      "metadata": {
        "id": "yO2wwGSGCX03",
        "colab": {
          "base_uri": "https://localhost:8080/"
        },
        "outputId": "b897e810-73ca-4102-cd8a-cec77351786f"
      },
      "execution_count": 81,
      "outputs": [
        {
          "output_type": "stream",
          "name": "stdout",
          "text": [
            "Select a method to solve the system of equations:\n",
            "1. Elimination by Gauss\n",
            "2. Gauss-Jordan\n",
            "3. LU Decomposition\n",
            "4. Gauss-Jacobi\n",
            "5. Gauss-Seidel\n",
            "Enter your choice: 1\n",
            "Matrix (A) = [[ 1  1  0]\n",
            " [ 0 -1 -1]\n",
            " [ 0  0  3]]\n",
            "Solution (x) = [1.33333333 2.66666667 4.33333333]\n"
          ]
        }
      ]
    }
  ]
}